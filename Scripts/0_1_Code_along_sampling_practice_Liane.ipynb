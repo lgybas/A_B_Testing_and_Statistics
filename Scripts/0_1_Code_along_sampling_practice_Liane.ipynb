{
 "cells": [
  {
   "cell_type": "markdown",
   "id": "d125de9c-4a36-4932-ad58-eab8f94876e1",
   "metadata": {},
   "source": [
    "# Empty notebook to copy content from the LMS"
   ]
  },
  {
   "cell_type": "raw",
   "id": "b05a294f-71ae-4cfa-8c3c-990613be504a",
   "metadata": {},
   "source": [
    "(page 5 of week 5)"
   ]
  },
  {
   "cell_type": "code",
   "execution_count": 4,
   "id": "49e34089-8e73-44cd-a18f-ee4cd042270c",
   "metadata": {},
   "outputs": [],
   "source": [
    "import pandas as pd"
   ]
  },
  {
   "cell_type": "markdown",
   "id": "95c5786d-4a77-402d-9293-63c8d60ae483",
   "metadata": {},
   "source": [
    "## 1 Convert list into pandas series"
   ]
  },
  {
   "cell_type": "code",
   "execution_count": 5,
   "id": "0f39f77a-f9eb-4515-aa53-416b0ca46d2f",
   "metadata": {},
   "outputs": [],
   "source": [
    "my_list = [5, 3, 5, 1, 0, 7, 8, 1, 9, 5, 5, 7, 3, 4, 8, 9, 5, 3, 3, 2, 6, 1]\n"
   ]
  },
  {
   "cell_type": "code",
   "execution_count": 6,
   "id": "d8089d66-c7e8-4720-9b5b-e29d8738ab84",
   "metadata": {},
   "outputs": [],
   "source": [
    "my_series = pd.Series(my_list)\n"
   ]
  },
  {
   "cell_type": "code",
   "execution_count": 7,
   "id": "b44d7a63-4eb6-4489-8d9a-84999bd186a4",
   "metadata": {},
   "outputs": [
    {
     "data": {
      "text/plain": [
       "pandas.core.series.Series"
      ]
     },
     "execution_count": 7,
     "metadata": {},
     "output_type": "execute_result"
    }
   ],
   "source": [
    "type(my_series)"
   ]
  },
  {
   "cell_type": "markdown",
   "id": "232b084d-f8c8-4b24-8de8-2417378c7e33",
   "metadata": {},
   "source": [
    "## 2 Draw a sample without replacement"
   ]
  },
  {
   "cell_type": "code",
   "execution_count": 8,
   "id": "0bd4e541-5770-453a-a6e8-7f1cedd89407",
   "metadata": {},
   "outputs": [],
   "source": [
    "my_sample = my_series.sample(n=5)"
   ]
  },
  {
   "cell_type": "code",
   "execution_count": 9,
   "id": "85cc92f7-a638-4177-a3ff-939949f1568d",
   "metadata": {},
   "outputs": [],
   "source": [
    "## can also be used on dataframes - then it returns sample rows"
   ]
  },
  {
   "cell_type": "code",
   "execution_count": 10,
   "id": "9d5d33b6-91a4-4602-89c7-457007f039e5",
   "metadata": {},
   "outputs": [
    {
     "name": "stdout",
     "output_type": "stream",
     "text": [
      "18    3\n",
      "11    7\n",
      "15    9\n",
      "17    3\n",
      "7     1\n",
      "dtype: int64\n"
     ]
    }
   ],
   "source": [
    "print(my_sample)"
   ]
  },
  {
   "cell_type": "markdown",
   "id": "73be6ac8-d904-43a9-bbb8-354d931993c2",
   "metadata": {},
   "source": [
    "## 3 Draw a sample with replacement"
   ]
  },
  {
   "cell_type": "code",
   "execution_count": 13,
   "id": "72f26947-667a-4744-8a11-1a16a198c6d4",
   "metadata": {},
   "outputs": [],
   "source": [
    "my_sample_2 = my_series.sample(n=10, replace=True)"
   ]
  },
  {
   "cell_type": "code",
   "execution_count": 14,
   "id": "3c13dd00-0ac1-40cb-a2e3-acd352f0518f",
   "metadata": {},
   "outputs": [
    {
     "name": "stdout",
     "output_type": "stream",
     "text": [
      "4     0\n",
      "17    3\n",
      "8     9\n",
      "19    2\n",
      "3     1\n",
      "10    5\n",
      "10    5\n",
      "21    1\n",
      "21    1\n",
      "14    8\n",
      "dtype: int64\n"
     ]
    }
   ],
   "source": [
    "print(my_sample_2)"
   ]
  },
  {
   "cell_type": "markdown",
   "id": "536a6dc0-c876-49fd-974b-dc305a7a6520",
   "metadata": {},
   "source": [
    "For the purposes of proving the Central Limit Theorem, we want the **sampled elements to be as independent from each other as possible**. \n",
    " \n",
    "And, even though it might be counter-intuitive, the **best way to ensure independence is sampling with replacement**: every time we sample an observation, all the elements in the population have the same probability of being sampled."
   ]
  },
  {
   "cell_type": "code",
   "execution_count": null,
   "id": "4fe5448d-552b-4181-9a0c-3f80c5f97a24",
   "metadata": {},
   "outputs": [],
   "source": []
  }
 ],
 "metadata": {
  "kernelspec": {
   "display_name": "Python 3",
   "language": "python",
   "name": "python3"
  },
  "language_info": {
   "codemirror_mode": {
    "name": "ipython",
    "version": 3
   },
   "file_extension": ".py",
   "mimetype": "text/x-python",
   "name": "python",
   "nbconvert_exporter": "python",
   "pygments_lexer": "ipython3",
   "version": "3.8.8"
  }
 },
 "nbformat": 4,
 "nbformat_minor": 5
}
