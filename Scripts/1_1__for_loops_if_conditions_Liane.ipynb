{
 "cells": [
  {
   "cell_type": "markdown",
   "metadata": {
    "id": "DBwp0YuM-IJ3"
   },
   "source": [
    "### For loops\n",
    "\n",
    "Whenever you want to apply any transformation to all elements in a list, you iterate through them with a `for` loop."
   ]
  },
  {
   "cell_type": "code",
   "execution_count": 4,
   "metadata": {
    "colab": {
     "base_uri": "https://localhost:8080/"
    },
    "id": "P2rRieYn-IJ4",
    "outputId": "cddd1140-5532-478b-a9e0-34c369a4abf3"
   },
   "outputs": [
    {
     "name": "stdout",
     "output_type": "stream",
     "text": [
      "Hello Justine!\n",
      "Hello Anabel!\n",
      "Hello Karl!\n",
      "Hello Liane!\n"
     ]
    }
   ],
   "source": [
    "names_list = [\"Justine\", \"Anabel\", \"Karl\", \"Liane\"]\n",
    "\n",
    "for name in names_list:\n",
    "    print(\"Hello \" + name + \"!\")"
   ]
  },
  {
   "cell_type": "markdown",
   "metadata": {
    "id": "EYew8fy_-IJ4"
   },
   "source": [
    "Here, the word `name` could really be anything. It is just a placeholder that takes the value of each element in the for loop in every sucessive iteration, until the loop reaches the end of the list. Using a diferent name does not change the result:"
   ]
  },
  {
   "cell_type": "code",
   "execution_count": 3,
   "metadata": {
    "colab": {
     "base_uri": "https://localhost:8080/"
    },
    "id": "R82djo9V-IJ4",
    "outputId": "c6011c10-255b-4a53-94d0-30651be694a9"
   },
   "outputs": [
    {
     "name": "stdout",
     "output_type": "stream",
     "text": [
      "Hello Justine!\n",
      "Hello Anabel!\n",
      "Hello Karl!\n"
     ]
    }
   ],
   "source": [
    "for dinosaur in names_list:\n",
    "    print(\"Hello \" + dinosaur + \"!\")"
   ]
  },
  {
   "cell_type": "markdown",
   "metadata": {
    "id": "kwIGxt6G-IJ4"
   },
   "source": [
    "If we wanted to store the resulting transformations of our loop into a new list, we would define an empty list first, and then `append()` all the elements as we iterate through the loop:"
   ]
  },
  {
   "cell_type": "code",
   "execution_count": 3,
   "metadata": {
    "id": "v2fv0GBk-IJ4"
   },
   "outputs": [],
   "source": [
    "greetings = []\n",
    "\n",
    "for name in names_list:\n",
    "    greetings.append(\"Hello \" + name + \"!\")"
   ]
  },
  {
   "cell_type": "code",
   "execution_count": 4,
   "metadata": {
    "colab": {
     "base_uri": "https://localhost:8080/"
    },
    "id": "na5NQYqS-IJ4",
    "outputId": "de4acd74-43fe-4610-ce19-023d649b8efa"
   },
   "outputs": [
    {
     "data": {
      "text/plain": [
       "['Hello Justine!', 'Hello Anabel!', 'Hello Karl!']"
      ]
     },
     "execution_count": 4,
     "metadata": {},
     "output_type": "execute_result"
    }
   ],
   "source": [
    "greetings"
   ]
  },
  {
   "cell_type": "markdown",
   "metadata": {
    "id": "aaEMo6_D-IJ4"
   },
   "source": [
    "**Exercise 1**. Create a List named `lower_names` with all the names of the students in your batch. Include name and surname, all in lowercase (like `john doe`)."
   ]
  },
  {
   "cell_type": "code",
   "execution_count": 7,
   "metadata": {
    "id": "mROLPc8Z-IJ5"
   },
   "outputs": [],
   "source": [
    "lower_names = [\"yanish veerahoo\", \"kaj kandler\", \"sai deshmukh\", \"liane gybas\", \"mital thombre\", \"ouss kaiser\", \"alex cange\", \"amelie rosenstein\", \"dani vau\", \"jorge murcia\", \"xi krause glucke\", \"pat x\", \"tal shavit\", \"konstantin stekolschikow\", \"sabah ahmed\"]"
   ]
  },
  {
   "cell_type": "markdown",
   "metadata": {
    "id": "k2_aFWyd-IJ5"
   },
   "source": [
    "**Exercise 2** Create a new list `capital_names`  with both the names and surnames capitalized (like `John Doe`), by iterating through the first list with a `for` loop."
   ]
  },
  {
   "cell_type": "code",
   "execution_count": 20,
   "metadata": {
    "id": "z26bvsuC-IJ5"
   },
   "outputs": [],
   "source": [
    "capital_names = []\n",
    "for name in lower_names:\n",
    "    capital_names.append(name.title())\n",
    "    "
   ]
  },
  {
   "cell_type": "code",
   "execution_count": 21,
   "metadata": {},
   "outputs": [
    {
     "name": "stdout",
     "output_type": "stream",
     "text": [
      "['Yanish Veerahoo', 'Kaj Kandler', 'Sai Deshmuk', 'Liane Gybas', 'Mital Diwali', 'Ouss Kaiser', 'Alex Cange', 'Amelie England', 'Dani Vau', 'Jorge Murcia', 'Xi Krause Glucke', 'Pat X', 'Tal Friends', 'Konstantin Glasses', 'Sabah Ahmed']\n"
     ]
    }
   ],
   "source": [
    "print(capital_names)"
   ]
  },
  {
   "cell_type": "markdown",
   "metadata": {
    "id": "A1IyEosz-IJ5"
   },
   "source": [
    "### Conditions with `if`\n",
    "\n",
    "Whenever you want to do something only if a condition is met, you will need an `if` statement. Let's say we want to greet people only if their name starts with \"A\". We will add a few more names to our list:"
   ]
  },
  {
   "cell_type": "code",
   "execution_count": 22,
   "metadata": {
    "id": "qJY4Vyvr-IJ5"
   },
   "outputs": [],
   "source": [
    "names_list = [\"Justine\", \"Amabel\", \"Karl\", \"Anna\", \"Lina\", \"Sergei\", \"Magnus\", \"Aurora\"]"
   ]
  },
  {
   "cell_type": "markdown",
   "metadata": {
    "id": "lj4IYFAw-IJ5"
   },
   "source": [
    "We can check one by one whether they start with \"A\" by selecting them from the list by their position using `[]`, and using the string method you already learned `starts_with()`:"
   ]
  },
  {
   "cell_type": "code",
   "execution_count": 23,
   "metadata": {
    "colab": {
     "base_uri": "https://localhost:8080/"
    },
    "id": "OHzXCA_7-IJ5",
    "outputId": "a88b0d48-5662-4778-d8ba-2ed39f11e73b"
   },
   "outputs": [
    {
     "name": "stdout",
     "output_type": "stream",
     "text": [
      "False\n",
      "True\n"
     ]
    }
   ],
   "source": [
    "# Justine\n",
    "print(names_list[0].startswith(\"A\"))\n",
    "\n",
    "# Amabel\n",
    "print(names_list[1].startswith(\"A\"))"
   ]
  },
  {
   "cell_type": "markdown",
   "metadata": {
    "id": "U3RA3n0A-IJ5"
   },
   "source": [
    "These booleans, `True` or `False`, are exactly what `if` statements need. Whenever a condition is true, the code below the `if` statement runs; if the condition is false, the code is skipped and nothing happens:"
   ]
  },
  {
   "cell_type": "code",
   "execution_count": 24,
   "metadata": {
    "colab": {
     "base_uri": "https://localhost:8080/"
    },
    "id": "dfUOVFhE-IJ5",
    "outputId": "76081d73-84fb-4d11-d95d-107c49ba172c"
   },
   "outputs": [
    {
     "name": "stdout",
     "output_type": "stream",
     "text": [
      "yay\n"
     ]
    }
   ],
   "source": [
    "condition = True\n",
    "\n",
    "if condition:\n",
    "    print(\"yay\")"
   ]
  },
  {
   "cell_type": "code",
   "execution_count": 25,
   "metadata": {
    "id": "IZfrQbNC-IJ5"
   },
   "outputs": [],
   "source": [
    "condition = False\n",
    "\n",
    "if condition:\n",
    "    print(\"yay\")"
   ]
  },
  {
   "cell_type": "markdown",
   "metadata": {
    "id": "a7e4kn5s-IJ6"
   },
   "source": [
    "So we can now tie everything together:\n",
    "\n",
    "- A for loop that iterates through the names.\n",
    "\n",
    "- An `if` statment that checks whether the name starts with \"A\".\n",
    "\n",
    "- A greeting."
   ]
  },
  {
   "cell_type": "code",
   "execution_count": 26,
   "metadata": {
    "colab": {
     "base_uri": "https://localhost:8080/"
    },
    "id": "EqZ2XlZx-IJ6",
    "outputId": "92987dd2-ebdd-4b22-aae4-89facc30b5a0"
   },
   "outputs": [
    {
     "name": "stdout",
     "output_type": "stream",
     "text": [
      "Hello Amabel!\n",
      "Hello Anna!\n",
      "Hello Aurora!\n"
     ]
    }
   ],
   "source": [
    "for name in names_list:\n",
    "    if name.startswith(\"A\"):\n",
    "        print(\"Hello \" + name + \"!\")"
   ]
  },
  {
   "cell_type": "markdown",
   "metadata": {
    "id": "kADtYciG-IJ6"
   },
   "source": [
    "An `else` statement can be added if you want to do something with the elements that did not meet the condition. \n",
    "\n",
    "After the `if` and the `else` statements, you can continue coding normally —and the code will run independently of any conditions. Here, we print some text and a line break:"
   ]
  },
  {
   "cell_type": "code",
   "execution_count": 27,
   "metadata": {
    "colab": {
     "base_uri": "https://localhost:8080/"
    },
    "id": "WTx50fcw-IJ6",
    "outputId": "c4b936df-caed-4d89-d291-a216f532f5d1"
   },
   "outputs": [
    {
     "name": "stdout",
     "output_type": "stream",
     "text": [
      "Bye Justine!\n",
      "Hello Amabel!\n",
      "Bye Karl!\n",
      "Hello Anna!\n",
      "Bye Lina!\n",
      "Bye Sergei!\n",
      "Bye Magnus!\n",
      "Hello Aurora!\n"
     ]
    }
   ],
   "source": [
    "for name in names_list:\n",
    "    if name.startswith(\"A\"):\n",
    "        print(\"Hello \" + name + \"!\")\n",
    "    else:\n",
    "        print(\"Bye \" + name + \"!\")"
   ]
  },
  {
   "cell_type": "markdown",
   "metadata": {
    "id": "VgAX9E4gB6LI"
   },
   "source": [
    "Let's add a text that gets printed after each iteration of the loop, so it is clearer what's going on..."
   ]
  },
  {
   "cell_type": "code",
   "execution_count": 28,
   "metadata": {
    "colab": {
     "base_uri": "https://localhost:8080/"
    },
    "id": "SMffM14b-IJ7",
    "outputId": "92266ba6-1a8b-474b-bc23-b4d1e51fc4fa"
   },
   "outputs": [
    {
     "name": "stdout",
     "output_type": "stream",
     "text": [
      "Bye Justine!\n",
      "next iteration incoming... \n",
      "\n",
      "Hello Amabel!\n",
      "next iteration incoming... \n",
      "\n",
      "Bye Karl!\n",
      "next iteration incoming... \n",
      "\n",
      "Hello Anna!\n",
      "next iteration incoming... \n",
      "\n",
      "Bye Lina!\n",
      "next iteration incoming... \n",
      "\n",
      "Bye Sergei!\n",
      "next iteration incoming... \n",
      "\n",
      "Bye Magnus!\n",
      "next iteration incoming... \n",
      "\n",
      "Hello Aurora!\n",
      "next iteration incoming... \n",
      "\n"
     ]
    }
   ],
   "source": [
    "for name in names_list:\n",
    "    if name.startswith(\"A\"):\n",
    "        print(\"Hello \" + name + \"!\")\n",
    "    else:\n",
    "        print(\"Bye \" + name + \"!\")\n",
    "    print(\"next iteration incoming... \\n\")"
   ]
  },
  {
   "cell_type": "markdown",
   "metadata": {
    "id": "mA72Iw-S-IJ6"
   },
   "source": [
    "**Exercise 3** In the previous code, the \"next iteration incoming...\" text gets printed also for the last iteration, which might be confusing for whoever is reading the output of this code. Tweak the code so that this text only gets printed if we are not in the last element of our list.\n",
    "\n",
    "**Tip**: it is totally normal if you don't know how to approach this exercise right away. You might need to use something we have not seeen in this lesson or the previous one. Google is your friend! If you are stuck for a long time (above 30 min), and have already tried many things, it's time to ask for help to your instructor."
   ]
  },
  {
   "cell_type": "code",
   "execution_count": 29,
   "metadata": {
    "id": "E2iJ9T-U-IJ7"
   },
   "outputs": [
    {
     "name": "stdout",
     "output_type": "stream",
     "text": [
      "Bye Justine!\n",
      "next iteration incoming... \n",
      "\n",
      "Hello Amabel!\n",
      "next iteration incoming... \n",
      "\n",
      "Bye Karl!\n",
      "next iteration incoming... \n",
      "\n",
      "Hello Anna!\n",
      "next iteration incoming... \n",
      "\n",
      "Bye Lina!\n",
      "next iteration incoming... \n",
      "\n",
      "Bye Sergei!\n",
      "next iteration incoming... \n",
      "\n",
      "Bye Magnus!\n",
      "next iteration incoming... \n",
      "\n",
      "Hello Aurora!\n"
     ]
    }
   ],
   "source": [
    "# code here\n",
    "\n",
    "for name in names_list:\n",
    "    if name.startswith(\"A\"):\n",
    "        print(\"Hello \" + name + \"!\")\n",
    "    else:\n",
    "        print(\"Bye \" + name + \"!\")\n",
    "    if name != names_list[-1]:\n",
    "        print(\"next iteration incoming... \\n\")\n",
    "\n",
    "# YEAH YEAH YEAH we have it solved within just a few minutes! confetti!!"
   ]
  },
  {
   "cell_type": "markdown",
   "metadata": {
    "id": "elfVtO9A-IJ7"
   },
   "source": [
    "### Bonus exercises\n",
    "\n"
   ]
  },
  {
   "cell_type": "code",
   "execution_count": 30,
   "metadata": {
    "id": "0xvt0482Cvb7"
   },
   "outputs": [],
   "source": [
    "# some lists and series to work with\n",
    "import pandas as pd\n",
    "\n",
    "car_brands = [\"BMW\", \"Volkswagen\", \"Mercedes\", \"Ford\", \"Apple\", \"Toyota\", \n",
    "              \"Tesla\", \"Kia\", \"Porsche\", \"Mazda\", \"Honda\", \"Jaguar\", \n",
    "              \"Mitsubishi\", \"Audi\", \"Bentley\", \"Bugatti\", \"Chrisler\"]\n",
    "\n",
    "fibonacci = [0, 1, 1, 2, 3, 5, 8, 13, 21, 34, 53, 89, 144]\n",
    "\n",
    "characters = [[\"Harry\", \"Hermoine\", \"Ron\"], \n",
    "              [\"Daenerys Targaryen\", \"Jon Snow\", \"Tyrion Lannister\", \n",
    "               \"Cercei Lannister\", \"Arya Stark\", \"Sansa Stark\"],\n",
    "              [\"Aragorn\", \"Gandalf\", \"Frodo\", \"Legolas\", \"Gollum\", \"Gimli\"],\n",
    "              [\"Walter White\", \"Jesse Pinkman\", \"Gus Fring\"]\n",
    "             ]\n",
    "\n",
    "sex_and_the_city = [\"Carrie\", \"Samantha\", \"Charlotte\", \"Miranda\"]\n",
    "\n",
    "numbers = [1, 51, 59, 2, 95, 25, 28, 67, 14, 63, 84, 33, 56, 31, 54, 97, 77, \n",
    "            98, 46, 84, 6, 66, 86, 77, 69, 19, 77, 7, 76, 19, 59, 77, 28, 34, \n",
    "            94, 4, 45, 95, 41, 66, 5, 38, 35, 57, 84, 38, 94, 65, 45, 80, 83, \n",
    "            22, 12, 100, 52, 55, 31, 69, 29, 67, 4, 39, 87, 49, 81, 82, 96, 4, \n",
    "            85, 62, 90, 72, 70, 26, 29, 63, 48, 94, 58, 9, 49, 79, 33, 63, 41, \n",
    "            13, 90, 37, 31, 3, 11, 54, 56, 72, 91, 97, 2, 83, 82, 6]\n",
    "\n",
    "numbers_ser = pd.Series(numbers)"
   ]
  },
  {
   "cell_type": "markdown",
   "metadata": {
    "id": "E5ZpP-VlDpRx"
   },
   "source": [
    "**Exercise 4:** \n",
    "\n",
    "Implement the for loop that greets people for the `characters` list you used in the previous exercises. For now, do not include any condition —just say hello to every character. What do you need to do to iterate through lists inside a list?"
   ]
  },
  {
   "cell_type": "code",
   "execution_count": 32,
   "metadata": {
    "id": "XOlqcNsb-IJ7"
   },
   "outputs": [
    {
     "name": "stdout",
     "output_type": "stream",
     "text": [
      "Hello Harry!\n",
      "Hello Hermoine!\n",
      "Hello Ron!\n",
      "Hello Daenerys Targaryen!\n",
      "Hello Jon Snow!\n",
      "Hello Tyrion Lannister!\n",
      "Hello Cercei Lannister!\n",
      "Hello Arya Stark!\n",
      "Hello Sansa Stark!\n",
      "Hello Aragorn!\n",
      "Hello Gandalf!\n",
      "Hello Frodo!\n",
      "Hello Legolas!\n",
      "Hello Gollum!\n",
      "Hello Gimli!\n",
      "Hello Walter White!\n",
      "Hello Jesse Pinkman!\n",
      "Hello Gus Fring!\n"
     ]
    }
   ],
   "source": [
    "# code here\n",
    "for group in characters:\n",
    "    for name in group:\n",
    "        print(\"Hello \" + name + \"!\")\n"
   ]
  },
  {
   "cell_type": "markdown",
   "metadata": {
    "id": "8d-IfDLn-IJ7"
   },
   "source": [
    "**Exercise 5:** \n",
    "\n",
    "Tweak the code of the previous exercise to greet characters based on these conditions:\n",
    "\n",
    "- If their name is composed of two words (Name Surname), the greeting should be \"Hello Name, from the house of Surname\".\n",
    "\n",
    "- If their name is shorter than 6 characters, the greeting should replicate the last letter of the name as many times as needed until it reaches 6 characters."
   ]
  },
  {
   "cell_type": "code",
   "execution_count": 53,
   "metadata": {
    "id": "XN4BwD-A-IJ7"
   },
   "outputs": [
    {
     "name": "stdout",
     "output_type": "stream",
     "text": [
      "Hello Harryy\n",
      "Hello Hermoine\n",
      "Hello Ronnnn\n",
      "Hello Daenerys, from the house of Targaryen\n",
      "Hello Jon, from the house of Snow\n",
      "Hello Tyrion, from the house of Lannister\n",
      "Hello Cercei, from the house of Lannister\n",
      "Hello Arya, from the house of Stark\n",
      "Hello Sansa, from the house of Stark\n",
      "Hello Aragorn\n",
      "Hello Gandalf\n",
      "Hello Frodoo\n",
      "Hello Legolas\n",
      "Hello Gollum\n",
      "Hello Gimlii\n",
      "Hello Walter, from the house of White\n",
      "Hello Jesse, from the house of Pinkman\n",
      "Hello Gus, from the house of Fring\n"
     ]
    }
   ],
   "source": [
    "# code here\n",
    "#for group in characters:\n",
    "#    for name in group:\n",
    "#        print(name)\n",
    "#        print(type(name))\n",
    "#        has_short_name = len(name) < 6\n",
    "#        has_surname = \n",
    "#        if name.split(\" \", expand=True) == True:\n",
    "#            print(\"stuff\")\n",
    "            \n",
    "#            print(\"Hello \" + name.split[0] + \", from the house of \" + name.split[1] + \".\")\n",
    "#        else:\n",
    "#            print(\"Hello \" + name + \"!\")\n",
    "\n",
    "            \n",
    "#pattern = r\" \"\n",
    "#name.str.contains(pattern)\n",
    "\n",
    "#people[['first_name', 'last_name']] = people['name'].str.split(\" \", expand=True) \n",
    "#print(people)\n",
    "\n",
    "for i in characters:\n",
    "  for n in i:\n",
    "    if len(n.split())> 1:\n",
    "      print( \"Hello \"+ n.split()[0]+\", from the house of \"+n.split()[1])\n",
    "    elif len(n.split())== 1:\n",
    "      print('Hello ' +n.ljust(6,n[-1]))\n",
    "    else:\n",
    "      print('Hello '  + n)"
   ]
  },
  {
   "cell_type": "markdown",
   "metadata": {
    "id": "S3q7FjMnG94g"
   },
   "source": [
    "**Exercise 6:** \n",
    "\n",
    "\n",
    "Take 50 samples(with replacement), each one of size 10 from `numbers_ser` series."
   ]
  },
  {
   "cell_type": "code",
   "execution_count": 58,
   "metadata": {
    "id": "d6NztYnADDEl"
   },
   "outputs": [
    {
     "ename": "SyntaxError",
     "evalue": "invalid syntax (<ipython-input-58-dce8309845ad>, line 3)",
     "output_type": "error",
     "traceback": [
      "\u001b[0;36m  File \u001b[0;32m\"<ipython-input-58-dce8309845ad>\"\u001b[0;36m, line \u001b[0;32m3\u001b[0m\n\u001b[0;31m    for i <= 50:\u001b[0m\n\u001b[0m          ^\u001b[0m\n\u001b[0;31mSyntaxError\u001b[0m\u001b[0;31m:\u001b[0m invalid syntax\n"
     ]
    }
   ],
   "source": [
    "#code here\n",
    "i=0\n",
    "for i = 50:\n",
    "    numbers_ser.sample(10)\n",
    "    i += 1"
   ]
  },
  {
   "cell_type": "code",
   "execution_count": null,
   "metadata": {},
   "outputs": [],
   "source": []
  }
 ],
 "metadata": {
  "colab": {
   "collapsed_sections": [
    "DBwp0YuM-IJ3",
    "A1IyEosz-IJ5",
    "elfVtO9A-IJ7"
   ],
   "provenance": []
  },
  "kernelspec": {
   "display_name": "Python 3.8.15 ('base')",
   "language": "python",
   "name": "python3"
  },
  "language_info": {
   "codemirror_mode": {
    "name": "ipython",
    "version": 3
   },
   "file_extension": ".py",
   "mimetype": "text/x-python",
   "name": "python",
   "nbconvert_exporter": "python",
   "pygments_lexer": "ipython3",
   "version": "3.8.15"
  },
  "vscode": {
   "interpreter": {
    "hash": "b8f2f4ada2c80ea9ac5ce6703ded092576c26007afc915a8876876e3c9a694db"
   }
  }
 },
 "nbformat": 4,
 "nbformat_minor": 4
}
